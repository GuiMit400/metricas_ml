{
 "cells": [
  {
   "cell_type": "code",
   "execution_count": null,
   "id": "b7df8ba5-363e-4901-8307-f08c24650ba7",
   "metadata": {},
   "outputs": [],
   "source": [
    "import pandas as pd\n",
    "from sklearn.linear_model import LinearRegression\n",
    "from sklearn.model_selection import train_test_split\n",
    "from sklearn.preprocessing import StandardScaler\n",
    "from sklearn.preprocessing import OneHotEncoder\n",
    "\n",
    "import numpy as np\n",
    "from collections import Counter\n",
    "\n",
    "from sklearn.metrics import mean_squared_error, mean_absolute_error, r2_score, f1_score, roc_auc_score, roc_curve, ConfusionMatrixDisplay, RocCurveDisplay, confusion_matrix, classification_report, plot_roc_curve\n",
    "\n",
    "from sklearn.model_selection import train_test_split\n",
    "from sklearn.discriminant_analysis import QuadraticDiscriminantAnalysis, LinearDiscriminantAnalysis\n",
    "from sklearn.naive_bayes import GaussianNB\n",
    "from sklearn.neighbors import KNeighborsClassifier\n",
    "from sklearn.svm import SVC\n",
    "from sklearn.tree import DecisionTreeClassifier\n",
    "from sklearn.ensemble import RandomForestClassifier\n",
    "from sklearn.ensemble import RandomForestRegressor\n",
    "from sklearn.ensemble import GradientBoostingClassifier\n",
    "from sklearn.tree import plot_tree\n",
    "\n",
    "from sklearn.preprocessing import StandardScaler, MinMaxScaler;\n",
    "\n",
    "from sklearn.model_selection import train_test_split\n",
    "from sklearn.preprocessing import StandardScaler, MinMaxScaler\n",
    "\n",
    "\n",
    "import matplotlib.pyplot as plt\n",
    "import matplotlib\n",
    "from matplotlib import colors\n",
    "import seaborn as sns\n",
    "     "
   ]
  },
  {
   "cell_type": "code",
   "execution_count": null,
   "id": "978af15d-d7d7-455a-be2a-ebd3ebed209f",
   "metadata": {},
   "outputs": [],
   "source": [
    "from google_drive_downloader import GoogleDriveDownloader as gdd\n",
    "\n",
    "data_google_id = '1-HC1-HsKIgZIDM9wUYP7_rTWu4HfGqHz'\n",
    "gdd.download_file_from_google_drive(file_id=data_google_id, \n",
    "                                    dest_path = './NAC3.csv', # Faz o download dos dados e salva o mesmo num arquivo nomeado data.csv\n",
    "                                    showsize = True)\n",
    "\n",
    "# Armazenandos os dados em um DataFrame\n",
    "dados = pd.read_csv(\"NAC3.csv\", sep = ',')"
   ]
  },
  {
   "cell_type": "code",
   "execution_count": null,
   "id": "20527471-a6f2-47e8-98c8-4a1269e10ef4",
   "metadata": {},
   "outputs": [],
   "source": [
    "dados.head()"
   ]
  },
  {
   "cell_type": "code",
   "execution_count": null,
   "id": "1b90b041-a281-47f7-a958-fd570e3a6252",
   "metadata": {},
   "outputs": [],
   "source": [
    "dados.describe()"
   ]
  },
  {
   "cell_type": "code",
   "execution_count": null,
   "id": "2a8c3fff-a0a6-4321-b08a-c02b0d0dff2f",
   "metadata": {},
   "outputs": [],
   "source": [
    "dados.info()"
   ]
  },
  {
   "cell_type": "code",
   "execution_count": null,
   "id": "cf97986e-fae6-44a2-b2c5-d5a8d3ee6117",
   "metadata": {},
   "outputs": [],
   "source": [
    "dados.groupby(\"model\").size()"
   ]
  },
  {
   "cell_type": "code",
   "execution_count": null,
   "id": "0d08adaa-c399-4d35-8de0-cb219ab356e1",
   "metadata": {},
   "outputs": [],
   "source": [
    "dados.groupby(\"transmission\").size()"
   ]
  },
  {
   "cell_type": "code",
   "execution_count": null,
   "id": "5ad71977-2a5f-441b-9eff-2dbe82549e5f",
   "metadata": {},
   "outputs": [],
   "source": [
    "One_Hot = pd.get_dummies(dados['transmission'], prefix = 'trans')\n",
    "One_Hot"
   ]
  },
  {
   "cell_type": "code",
   "execution_count": null,
   "id": "0319b7a1-00ec-4f05-bbf4-3fb7cf4afd0f",
   "metadata": {},
   "outputs": [],
   "source": [
    "dados = pd.concat([dados,One_Hot],axis =1)"
   ]
  },
  {
   "cell_type": "code",
   "execution_count": null,
   "id": "44772eda-ac70-4c7d-a628-be07ed5a787b",
   "metadata": {},
   "outputs": [],
   "source": [
    "One_Hot2 = pd.get_dummies(dados['model'], prefix = 'modelo')\n",
    "One_Hot2"
   ]
  },
  {
   "cell_type": "code",
   "execution_count": null,
   "id": "66293b0d-dedf-4846-b054-d5cae36d5737",
   "metadata": {},
   "outputs": [],
   "source": [
    "dados = pd.concat([dados,One_Hot2],axis =1)"
   ]
  },
  {
   "cell_type": "code",
   "execution_count": null,
   "id": "40760b36-a135-4c47-8420-1b5301ea314a",
   "metadata": {},
   "outputs": [],
   "source": [
    "plt.figure(figsize=(18,8))\n",
    "sns.heatmap(dados.corr(method = 'pearson'), annot=True, fmt=\".1f\")"
   ]
  },
  {
   "cell_type": "code",
   "execution_count": null,
   "id": "19e62752-d04c-43a8-add3-64b29f1d432a",
   "metadata": {},
   "outputs": [],
   "source": [
    "X = dados.drop(columns=['price','model','transmission']).values\n",
    "y = dados['price']\n",
    "\n",
    "X_train, X_test, y_train, y_test = train_test_split(X, y, test_size = 0.33, random_state= 42)\n",
    "\n",
    "scale = MinMaxScaler().fit(X_train)\n",
    "\n",
    "\n",
    "X_train = scale.transform(X_train)\n",
    "X_test = scale.transform(X_test)"
   ]
  },
  {
   "cell_type": "code",
   "execution_count": null,
   "id": "dcd38e5b-fa11-4261-9726-9ac1eefbd983",
   "metadata": {},
   "outputs": [],
   "source": [
    "clf_Arvore_Decisao = DecisionTreeClassifier(criterion='entropy', max_depth=20, min_samples_leaf=5)\n",
    "clf_Arvore_Decisao.fit(X_train, y_train)"
   ]
  },
  {
   "cell_type": "code",
   "execution_count": null,
   "id": "6ec72792-af34-4ad3-9612-7b329bd3a9af",
   "metadata": {},
   "outputs": [],
   "source": [
    "y_pred_AD = clf_Arvore_Decisao.predict(X_test)\n",
    "y_pred_AD"
   ]
  },
  {
   "cell_type": "code",
   "execution_count": null,
   "id": "db425975-67c4-470e-8667-25392b383ae9",
   "metadata": {},
   "outputs": [],
   "source": [
    "mean_squared_error(y_pred_AD,y_test)"
   ]
  },
  {
   "cell_type": "code",
   "execution_count": null,
   "id": "5b50c298-f943-486d-b833-60271f555798",
   "metadata": {},
   "outputs": [],
   "source": [
    "mean_absolute_error(y_pred_AD,y_test)"
   ]
  },
  {
   "cell_type": "code",
   "execution_count": null,
   "id": "86515c8f-57eb-47f4-8aee-065f6ee22132",
   "metadata": {},
   "outputs": [],
   "source": [
    "r2_score(y_pred_AD,y_test)"
   ]
  },
  {
   "cell_type": "code",
   "execution_count": null,
   "id": "a120cbc6-da42-4a80-b541-7af8c12b5001",
   "metadata": {},
   "outputs": [],
   "source": [
    "clf_RFR = RandomForestRegressor(max_depth=3, n_estimators=100)\n",
    "clf_RFR.fit(X_train, y_train)"
   ]
  },
  {
   "cell_type": "code",
   "execution_count": null,
   "id": "c13e3ae7-c5b3-4ff9-a90f-3e6c5ef2b901",
   "metadata": {},
   "outputs": [],
   "source": [
    "y_pred_RFR = clf_RFR.predict(X_test)\n",
    "y_pred_RFR"
   ]
  },
  {
   "cell_type": "code",
   "execution_count": null,
   "id": "d66a9c36-c3e5-462e-8e25-495cf6b799d7",
   "metadata": {},
   "outputs": [],
   "source": [
    "mean_squared_error(y_pred_AD,y_test)"
   ]
  },
  {
   "cell_type": "code",
   "execution_count": null,
   "id": "a927fe3a-3163-44c7-b16d-17e02bafe949",
   "metadata": {},
   "outputs": [],
   "source": [
    "mean_absolute_error(y_pred_AD,y_test)"
   ]
  },
  {
   "cell_type": "code",
   "execution_count": null,
   "id": "3a6cc03e-736e-4d90-bed2-f5859f6bf90f",
   "metadata": {},
   "outputs": [],
   "source": [
    "r2_score(y_pred_AD,y_test)"
   ]
  },
  {
   "cell_type": "code",
   "execution_count": null,
   "id": "94e8fd15-a9a2-4f2e-abe5-3d3cec13cfd0",
   "metadata": {},
   "outputs": [],
   "source": [
    "mean_squared_error(y_pred_RFR,y_test)"
   ]
  },
  {
   "cell_type": "code",
   "execution_count": null,
   "id": "a197dfcb-d146-4a8d-84da-4489c2a56848",
   "metadata": {},
   "outputs": [],
   "source": [
    "mean_absolute_error(y_pred_RFR,y_test)"
   ]
  },
  {
   "cell_type": "code",
   "execution_count": null,
   "id": "47749694-5d22-4619-999c-db4ea37a5bf8",
   "metadata": {},
   "outputs": [],
   "source": [
    "r2_score(y_pred_RFR,y_test)"
   ]
  },
  {
   "cell_type": "code",
   "execution_count": null,
   "id": "9d81d17c-4c63-4edf-9c5f-9521768b6550",
   "metadata": {},
   "outputs": [],
   "source": [
    "\"\"\"\n",
    "Conclusão\n",
    "Qual dos modelos conseguiu o melhor desempenho?\n",
    "\n",
    "O melhor dos modelos foi o RandomForestRegressor ele me da um r2_Score de 0.88 o que mais se aproxima de 1 diferente da DecisionTreeClassifier que me trás 0.41 diminuindo a performance do algoritimo\n",
    "\n",
    "\"\"\""
   ]
  }
 ],
 "metadata": {
  "kernelspec": {
   "display_name": "Python 3 (ipykernel)",
   "language": "python",
   "name": "python3"
  },
  "language_info": {
   "codemirror_mode": {
    "name": "ipython",
    "version": 3
   },
   "file_extension": ".py",
   "mimetype": "text/x-python",
   "name": "python",
   "nbconvert_exporter": "python",
   "pygments_lexer": "ipython3",
   "version": "3.9.13"
  }
 },
 "nbformat": 4,
 "nbformat_minor": 5
}
